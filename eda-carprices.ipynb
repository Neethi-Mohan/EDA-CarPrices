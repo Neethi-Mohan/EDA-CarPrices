{
 "cells": [
  {
   "cell_type": "markdown",
   "id": "e81e2460",
   "metadata": {
    "papermill": {
     "duration": 0.011133,
     "end_time": "2022-07-03T12:57:15.218153",
     "exception": false,
     "start_time": "2022-07-03T12:57:15.207020",
     "status": "completed"
    },
    "tags": []
   },
   "source": [
    "Dataset: \n",
    "The dataset is information about different types of car in the American market.\n",
    "\n",
    "Problem Statement:\n",
    "To find the characteristics that affects the pricing of car in the US.\n",
    "Which variables are significant in predicting the price of a car.\n",
    "\n",
    "*Import Data from Module\n",
    "\n",
    "*Descriptive Statistical Analysis\n",
    "\n",
    "*Analyzing Individual Feature Patterns using Visualization\n",
    "\n",
    "*Basics of Grouping\n",
    "\n",
    "*Correlation and Causation\n",
    "\n",
    "\n",
    "Please Note : The dataset provided is for learning purpose. Please don’t draw any inference with real world scenario."
   ]
  },
  {
   "cell_type": "code",
   "execution_count": 1,
   "id": "14060095",
   "metadata": {
    "execution": {
     "iopub.execute_input": "2022-07-03T12:57:15.240698Z",
     "iopub.status.busy": "2022-07-03T12:57:15.240015Z",
     "iopub.status.idle": "2022-07-03T12:57:16.574834Z",
     "shell.execute_reply": "2022-07-03T12:57:16.573716Z"
    },
    "papermill": {
     "duration": 1.349825,
     "end_time": "2022-07-03T12:57:16.578494",
     "exception": false,
     "start_time": "2022-07-03T12:57:15.228669",
     "status": "completed"
    },
    "tags": []
   },
   "outputs": [
    {
     "name": "stdout",
     "output_type": "stream",
     "text": [
      "/kaggle/input/car-price-prediction/CarPrice_Assignment.csv\n",
      "/kaggle/input/car-price-prediction/Data Dictionary - carprices.xlsx\n"
     ]
    }
   ],
   "source": [
    "\n",
    "import numpy as np # linear algebra\n",
    "import pandas as pd # data processing, CSV file I/O (e.g. pd.read_csv)\n",
    "import seaborn as sns\n",
    "import matplotlib.pyplot as plt\n",
    "import scipy.stats as sts\n",
    "%matplotlib inline\n",
    "\n",
    "# Input data files are available in the read-only \"../input/\" directory\n",
    "# For example, running this (by clicking run or pressing Shift+Enter) will list all files under the input directory\n",
    "\n",
    "import os\n",
    "for dirname, _, filenames in os.walk('/kaggle/input'):\n",
    "    for filename in filenames:\n",
    "        print(os.path.join(dirname, filename))\n"
   ]
  },
  {
   "cell_type": "markdown",
   "id": "dfb620a6",
   "metadata": {
    "papermill": {
     "duration": 0.00986,
     "end_time": "2022-07-03T12:57:16.599661",
     "exception": false,
     "start_time": "2022-07-03T12:57:16.589801",
     "status": "completed"
    },
    "tags": []
   },
   "source": [
    "# 1.Import Dataset"
   ]
  },
  {
   "cell_type": "code",
   "execution_count": 2,
   "id": "614c5878",
   "metadata": {
    "execution": {
     "iopub.execute_input": "2022-07-03T12:57:16.621634Z",
     "iopub.status.busy": "2022-07-03T12:57:16.621175Z",
     "iopub.status.idle": "2022-07-03T12:57:16.675091Z",
     "shell.execute_reply": "2022-07-03T12:57:16.674166Z"
    },
    "papermill": {
     "duration": 0.067759,
     "end_time": "2022-07-03T12:57:16.677282",
     "exception": false,
     "start_time": "2022-07-03T12:57:16.609523",
     "status": "completed"
    },
    "tags": []
   },
   "outputs": [
    {
     "data": {
      "text/html": [
       "<div>\n",
       "<style scoped>\n",
       "    .dataframe tbody tr th:only-of-type {\n",
       "        vertical-align: middle;\n",
       "    }\n",
       "\n",
       "    .dataframe tbody tr th {\n",
       "        vertical-align: top;\n",
       "    }\n",
       "\n",
       "    .dataframe thead th {\n",
       "        text-align: right;\n",
       "    }\n",
       "</style>\n",
       "<table border=\"1\" class=\"dataframe\">\n",
       "  <thead>\n",
       "    <tr style=\"text-align: right;\">\n",
       "      <th></th>\n",
       "      <th>car_ID</th>\n",
       "      <th>symboling</th>\n",
       "      <th>CarName</th>\n",
       "      <th>fueltype</th>\n",
       "      <th>aspiration</th>\n",
       "      <th>doornumber</th>\n",
       "      <th>carbody</th>\n",
       "      <th>drivewheel</th>\n",
       "      <th>enginelocation</th>\n",
       "      <th>wheelbase</th>\n",
       "      <th>...</th>\n",
       "      <th>enginesize</th>\n",
       "      <th>fuelsystem</th>\n",
       "      <th>boreratio</th>\n",
       "      <th>stroke</th>\n",
       "      <th>compressionratio</th>\n",
       "      <th>horsepower</th>\n",
       "      <th>peakrpm</th>\n",
       "      <th>citympg</th>\n",
       "      <th>highwaympg</th>\n",
       "      <th>price</th>\n",
       "    </tr>\n",
       "  </thead>\n",
       "  <tbody>\n",
       "    <tr>\n",
       "      <th>0</th>\n",
       "      <td>1</td>\n",
       "      <td>3</td>\n",
       "      <td>alfa-romero giulia</td>\n",
       "      <td>gas</td>\n",
       "      <td>std</td>\n",
       "      <td>two</td>\n",
       "      <td>convertible</td>\n",
       "      <td>rwd</td>\n",
       "      <td>front</td>\n",
       "      <td>88.6</td>\n",
       "      <td>...</td>\n",
       "      <td>130</td>\n",
       "      <td>mpfi</td>\n",
       "      <td>3.47</td>\n",
       "      <td>2.68</td>\n",
       "      <td>9.0</td>\n",
       "      <td>111</td>\n",
       "      <td>5000</td>\n",
       "      <td>21</td>\n",
       "      <td>27</td>\n",
       "      <td>13495.0</td>\n",
       "    </tr>\n",
       "    <tr>\n",
       "      <th>1</th>\n",
       "      <td>2</td>\n",
       "      <td>3</td>\n",
       "      <td>alfa-romero stelvio</td>\n",
       "      <td>gas</td>\n",
       "      <td>std</td>\n",
       "      <td>two</td>\n",
       "      <td>convertible</td>\n",
       "      <td>rwd</td>\n",
       "      <td>front</td>\n",
       "      <td>88.6</td>\n",
       "      <td>...</td>\n",
       "      <td>130</td>\n",
       "      <td>mpfi</td>\n",
       "      <td>3.47</td>\n",
       "      <td>2.68</td>\n",
       "      <td>9.0</td>\n",
       "      <td>111</td>\n",
       "      <td>5000</td>\n",
       "      <td>21</td>\n",
       "      <td>27</td>\n",
       "      <td>16500.0</td>\n",
       "    </tr>\n",
       "    <tr>\n",
       "      <th>2</th>\n",
       "      <td>3</td>\n",
       "      <td>1</td>\n",
       "      <td>alfa-romero Quadrifoglio</td>\n",
       "      <td>gas</td>\n",
       "      <td>std</td>\n",
       "      <td>two</td>\n",
       "      <td>hatchback</td>\n",
       "      <td>rwd</td>\n",
       "      <td>front</td>\n",
       "      <td>94.5</td>\n",
       "      <td>...</td>\n",
       "      <td>152</td>\n",
       "      <td>mpfi</td>\n",
       "      <td>2.68</td>\n",
       "      <td>3.47</td>\n",
       "      <td>9.0</td>\n",
       "      <td>154</td>\n",
       "      <td>5000</td>\n",
       "      <td>19</td>\n",
       "      <td>26</td>\n",
       "      <td>16500.0</td>\n",
       "    </tr>\n",
       "    <tr>\n",
       "      <th>3</th>\n",
       "      <td>4</td>\n",
       "      <td>2</td>\n",
       "      <td>audi 100 ls</td>\n",
       "      <td>gas</td>\n",
       "      <td>std</td>\n",
       "      <td>four</td>\n",
       "      <td>sedan</td>\n",
       "      <td>fwd</td>\n",
       "      <td>front</td>\n",
       "      <td>99.8</td>\n",
       "      <td>...</td>\n",
       "      <td>109</td>\n",
       "      <td>mpfi</td>\n",
       "      <td>3.19</td>\n",
       "      <td>3.40</td>\n",
       "      <td>10.0</td>\n",
       "      <td>102</td>\n",
       "      <td>5500</td>\n",
       "      <td>24</td>\n",
       "      <td>30</td>\n",
       "      <td>13950.0</td>\n",
       "    </tr>\n",
       "    <tr>\n",
       "      <th>4</th>\n",
       "      <td>5</td>\n",
       "      <td>2</td>\n",
       "      <td>audi 100ls</td>\n",
       "      <td>gas</td>\n",
       "      <td>std</td>\n",
       "      <td>four</td>\n",
       "      <td>sedan</td>\n",
       "      <td>4wd</td>\n",
       "      <td>front</td>\n",
       "      <td>99.4</td>\n",
       "      <td>...</td>\n",
       "      <td>136</td>\n",
       "      <td>mpfi</td>\n",
       "      <td>3.19</td>\n",
       "      <td>3.40</td>\n",
       "      <td>8.0</td>\n",
       "      <td>115</td>\n",
       "      <td>5500</td>\n",
       "      <td>18</td>\n",
       "      <td>22</td>\n",
       "      <td>17450.0</td>\n",
       "    </tr>\n",
       "  </tbody>\n",
       "</table>\n",
       "<p>5 rows × 26 columns</p>\n",
       "</div>"
      ],
      "text/plain": [
       "   car_ID  symboling                   CarName fueltype aspiration doornumber  \\\n",
       "0       1          3        alfa-romero giulia      gas        std        two   \n",
       "1       2          3       alfa-romero stelvio      gas        std        two   \n",
       "2       3          1  alfa-romero Quadrifoglio      gas        std        two   \n",
       "3       4          2               audi 100 ls      gas        std       four   \n",
       "4       5          2                audi 100ls      gas        std       four   \n",
       "\n",
       "       carbody drivewheel enginelocation  wheelbase  ...  enginesize  \\\n",
       "0  convertible        rwd          front       88.6  ...         130   \n",
       "1  convertible        rwd          front       88.6  ...         130   \n",
       "2    hatchback        rwd          front       94.5  ...         152   \n",
       "3        sedan        fwd          front       99.8  ...         109   \n",
       "4        sedan        4wd          front       99.4  ...         136   \n",
       "\n",
       "   fuelsystem  boreratio  stroke compressionratio horsepower  peakrpm citympg  \\\n",
       "0        mpfi       3.47    2.68              9.0        111     5000      21   \n",
       "1        mpfi       3.47    2.68              9.0        111     5000      21   \n",
       "2        mpfi       2.68    3.47              9.0        154     5000      19   \n",
       "3        mpfi       3.19    3.40             10.0        102     5500      24   \n",
       "4        mpfi       3.19    3.40              8.0        115     5500      18   \n",
       "\n",
       "   highwaympg    price  \n",
       "0          27  13495.0  \n",
       "1          27  16500.0  \n",
       "2          26  16500.0  \n",
       "3          30  13950.0  \n",
       "4          22  17450.0  \n",
       "\n",
       "[5 rows x 26 columns]"
      ]
     },
     "execution_count": 2,
     "metadata": {},
     "output_type": "execute_result"
    }
   ],
   "source": [
    "url = '../input/car-price-prediction/CarPrice_Assignment.csv'\n",
    "df = pd.read_csv(url)\n",
    "df.head()"
   ]
  },
  {
   "cell_type": "code",
   "execution_count": 3,
   "id": "34a65c58",
   "metadata": {
    "execution": {
     "iopub.execute_input": "2022-07-03T12:57:16.700622Z",
     "iopub.status.busy": "2022-07-03T12:57:16.700175Z",
     "iopub.status.idle": "2022-07-03T12:57:16.709783Z",
     "shell.execute_reply": "2022-07-03T12:57:16.708441Z"
    },
    "papermill": {
     "duration": 0.023575,
     "end_time": "2022-07-03T12:57:16.711863",
     "exception": false,
     "start_time": "2022-07-03T12:57:16.688288",
     "status": "completed"
    },
    "tags": []
   },
   "outputs": [
    {
     "name": "stdout",
     "output_type": "stream",
     "text": [
      "Dimensionality: (205, 26)\n"
     ]
    },
    {
     "data": {
      "text/plain": [
       "car_ID                int64\n",
       "symboling             int64\n",
       "CarName              object\n",
       "fueltype             object\n",
       "aspiration           object\n",
       "doornumber           object\n",
       "carbody              object\n",
       "drivewheel           object\n",
       "enginelocation       object\n",
       "wheelbase           float64\n",
       "carlength           float64\n",
       "carwidth            float64\n",
       "carheight           float64\n",
       "curbweight            int64\n",
       "enginetype           object\n",
       "cylindernumber       object\n",
       "enginesize            int64\n",
       "fuelsystem           object\n",
       "boreratio           float64\n",
       "stroke              float64\n",
       "compressionratio    float64\n",
       "horsepower            int64\n",
       "peakrpm               int64\n",
       "citympg               int64\n",
       "highwaympg            int64\n",
       "price               float64\n",
       "dtype: object"
      ]
     },
     "execution_count": 3,
     "metadata": {},
     "output_type": "execute_result"
    }
   ],
   "source": [
    "print('Dimensionality:',df.shape)\n",
    "df.dtypes"
   ]
  },
  {
   "cell_type": "markdown",
   "id": "3783837f",
   "metadata": {
    "papermill": {
     "duration": 0.010633,
     "end_time": "2022-07-03T12:57:16.733031",
     "exception": false,
     "start_time": "2022-07-03T12:57:16.722398",
     "status": "completed"
    },
    "tags": []
   },
   "source": [
    "# 2.Descriptive Statistical Analysis"
   ]
  },
  {
   "cell_type": "code",
   "execution_count": 4,
   "id": "f6092aa1",
   "metadata": {
    "execution": {
     "iopub.execute_input": "2022-07-03T12:57:16.756344Z",
     "iopub.status.busy": "2022-07-03T12:57:16.755557Z",
     "iopub.status.idle": "2022-07-03T12:57:16.822633Z",
     "shell.execute_reply": "2022-07-03T12:57:16.821392Z"
    },
    "papermill": {
     "duration": 0.081172,
     "end_time": "2022-07-03T12:57:16.824784",
     "exception": false,
     "start_time": "2022-07-03T12:57:16.743612",
     "status": "completed"
    },
    "tags": []
   },
   "outputs": [
    {
     "data": {
      "text/html": [
       "<div>\n",
       "<style scoped>\n",
       "    .dataframe tbody tr th:only-of-type {\n",
       "        vertical-align: middle;\n",
       "    }\n",
       "\n",
       "    .dataframe tbody tr th {\n",
       "        vertical-align: top;\n",
       "    }\n",
       "\n",
       "    .dataframe thead th {\n",
       "        text-align: right;\n",
       "    }\n",
       "</style>\n",
       "<table border=\"1\" class=\"dataframe\">\n",
       "  <thead>\n",
       "    <tr style=\"text-align: right;\">\n",
       "      <th></th>\n",
       "      <th>car_ID</th>\n",
       "      <th>symboling</th>\n",
       "      <th>wheelbase</th>\n",
       "      <th>carlength</th>\n",
       "      <th>carwidth</th>\n",
       "      <th>carheight</th>\n",
       "      <th>curbweight</th>\n",
       "      <th>enginesize</th>\n",
       "      <th>boreratio</th>\n",
       "      <th>stroke</th>\n",
       "      <th>compressionratio</th>\n",
       "      <th>horsepower</th>\n",
       "      <th>peakrpm</th>\n",
       "      <th>citympg</th>\n",
       "      <th>highwaympg</th>\n",
       "      <th>price</th>\n",
       "    </tr>\n",
       "  </thead>\n",
       "  <tbody>\n",
       "    <tr>\n",
       "      <th>count</th>\n",
       "      <td>205.000000</td>\n",
       "      <td>205.000000</td>\n",
       "      <td>205.000000</td>\n",
       "      <td>205.000000</td>\n",
       "      <td>205.000000</td>\n",
       "      <td>205.000000</td>\n",
       "      <td>205.000000</td>\n",
       "      <td>205.000000</td>\n",
       "      <td>205.000000</td>\n",
       "      <td>205.000000</td>\n",
       "      <td>205.000000</td>\n",
       "      <td>205.000000</td>\n",
       "      <td>205.000000</td>\n",
       "      <td>205.000000</td>\n",
       "      <td>205.000000</td>\n",
       "      <td>205.000000</td>\n",
       "    </tr>\n",
       "    <tr>\n",
       "      <th>mean</th>\n",
       "      <td>103.000000</td>\n",
       "      <td>0.834146</td>\n",
       "      <td>98.756585</td>\n",
       "      <td>174.049268</td>\n",
       "      <td>65.907805</td>\n",
       "      <td>53.724878</td>\n",
       "      <td>2555.565854</td>\n",
       "      <td>126.907317</td>\n",
       "      <td>3.329756</td>\n",
       "      <td>3.255415</td>\n",
       "      <td>10.142537</td>\n",
       "      <td>104.117073</td>\n",
       "      <td>5125.121951</td>\n",
       "      <td>25.219512</td>\n",
       "      <td>30.751220</td>\n",
       "      <td>13276.710571</td>\n",
       "    </tr>\n",
       "    <tr>\n",
       "      <th>std</th>\n",
       "      <td>59.322565</td>\n",
       "      <td>1.245307</td>\n",
       "      <td>6.021776</td>\n",
       "      <td>12.337289</td>\n",
       "      <td>2.145204</td>\n",
       "      <td>2.443522</td>\n",
       "      <td>520.680204</td>\n",
       "      <td>41.642693</td>\n",
       "      <td>0.270844</td>\n",
       "      <td>0.313597</td>\n",
       "      <td>3.972040</td>\n",
       "      <td>39.544167</td>\n",
       "      <td>476.985643</td>\n",
       "      <td>6.542142</td>\n",
       "      <td>6.886443</td>\n",
       "      <td>7988.852332</td>\n",
       "    </tr>\n",
       "    <tr>\n",
       "      <th>min</th>\n",
       "      <td>1.000000</td>\n",
       "      <td>-2.000000</td>\n",
       "      <td>86.600000</td>\n",
       "      <td>141.100000</td>\n",
       "      <td>60.300000</td>\n",
       "      <td>47.800000</td>\n",
       "      <td>1488.000000</td>\n",
       "      <td>61.000000</td>\n",
       "      <td>2.540000</td>\n",
       "      <td>2.070000</td>\n",
       "      <td>7.000000</td>\n",
       "      <td>48.000000</td>\n",
       "      <td>4150.000000</td>\n",
       "      <td>13.000000</td>\n",
       "      <td>16.000000</td>\n",
       "      <td>5118.000000</td>\n",
       "    </tr>\n",
       "    <tr>\n",
       "      <th>25%</th>\n",
       "      <td>52.000000</td>\n",
       "      <td>0.000000</td>\n",
       "      <td>94.500000</td>\n",
       "      <td>166.300000</td>\n",
       "      <td>64.100000</td>\n",
       "      <td>52.000000</td>\n",
       "      <td>2145.000000</td>\n",
       "      <td>97.000000</td>\n",
       "      <td>3.150000</td>\n",
       "      <td>3.110000</td>\n",
       "      <td>8.600000</td>\n",
       "      <td>70.000000</td>\n",
       "      <td>4800.000000</td>\n",
       "      <td>19.000000</td>\n",
       "      <td>25.000000</td>\n",
       "      <td>7788.000000</td>\n",
       "    </tr>\n",
       "    <tr>\n",
       "      <th>50%</th>\n",
       "      <td>103.000000</td>\n",
       "      <td>1.000000</td>\n",
       "      <td>97.000000</td>\n",
       "      <td>173.200000</td>\n",
       "      <td>65.500000</td>\n",
       "      <td>54.100000</td>\n",
       "      <td>2414.000000</td>\n",
       "      <td>120.000000</td>\n",
       "      <td>3.310000</td>\n",
       "      <td>3.290000</td>\n",
       "      <td>9.000000</td>\n",
       "      <td>95.000000</td>\n",
       "      <td>5200.000000</td>\n",
       "      <td>24.000000</td>\n",
       "      <td>30.000000</td>\n",
       "      <td>10295.000000</td>\n",
       "    </tr>\n",
       "    <tr>\n",
       "      <th>75%</th>\n",
       "      <td>154.000000</td>\n",
       "      <td>2.000000</td>\n",
       "      <td>102.400000</td>\n",
       "      <td>183.100000</td>\n",
       "      <td>66.900000</td>\n",
       "      <td>55.500000</td>\n",
       "      <td>2935.000000</td>\n",
       "      <td>141.000000</td>\n",
       "      <td>3.580000</td>\n",
       "      <td>3.410000</td>\n",
       "      <td>9.400000</td>\n",
       "      <td>116.000000</td>\n",
       "      <td>5500.000000</td>\n",
       "      <td>30.000000</td>\n",
       "      <td>34.000000</td>\n",
       "      <td>16503.000000</td>\n",
       "    </tr>\n",
       "    <tr>\n",
       "      <th>max</th>\n",
       "      <td>205.000000</td>\n",
       "      <td>3.000000</td>\n",
       "      <td>120.900000</td>\n",
       "      <td>208.100000</td>\n",
       "      <td>72.300000</td>\n",
       "      <td>59.800000</td>\n",
       "      <td>4066.000000</td>\n",
       "      <td>326.000000</td>\n",
       "      <td>3.940000</td>\n",
       "      <td>4.170000</td>\n",
       "      <td>23.000000</td>\n",
       "      <td>288.000000</td>\n",
       "      <td>6600.000000</td>\n",
       "      <td>49.000000</td>\n",
       "      <td>54.000000</td>\n",
       "      <td>45400.000000</td>\n",
       "    </tr>\n",
       "  </tbody>\n",
       "</table>\n",
       "</div>"
      ],
      "text/plain": [
       "           car_ID   symboling   wheelbase   carlength    carwidth   carheight  \\\n",
       "count  205.000000  205.000000  205.000000  205.000000  205.000000  205.000000   \n",
       "mean   103.000000    0.834146   98.756585  174.049268   65.907805   53.724878   \n",
       "std     59.322565    1.245307    6.021776   12.337289    2.145204    2.443522   \n",
       "min      1.000000   -2.000000   86.600000  141.100000   60.300000   47.800000   \n",
       "25%     52.000000    0.000000   94.500000  166.300000   64.100000   52.000000   \n",
       "50%    103.000000    1.000000   97.000000  173.200000   65.500000   54.100000   \n",
       "75%    154.000000    2.000000  102.400000  183.100000   66.900000   55.500000   \n",
       "max    205.000000    3.000000  120.900000  208.100000   72.300000   59.800000   \n",
       "\n",
       "        curbweight  enginesize   boreratio      stroke  compressionratio  \\\n",
       "count   205.000000  205.000000  205.000000  205.000000        205.000000   \n",
       "mean   2555.565854  126.907317    3.329756    3.255415         10.142537   \n",
       "std     520.680204   41.642693    0.270844    0.313597          3.972040   \n",
       "min    1488.000000   61.000000    2.540000    2.070000          7.000000   \n",
       "25%    2145.000000   97.000000    3.150000    3.110000          8.600000   \n",
       "50%    2414.000000  120.000000    3.310000    3.290000          9.000000   \n",
       "75%    2935.000000  141.000000    3.580000    3.410000          9.400000   \n",
       "max    4066.000000  326.000000    3.940000    4.170000         23.000000   \n",
       "\n",
       "       horsepower      peakrpm     citympg  highwaympg         price  \n",
       "count  205.000000   205.000000  205.000000  205.000000    205.000000  \n",
       "mean   104.117073  5125.121951   25.219512   30.751220  13276.710571  \n",
       "std     39.544167   476.985643    6.542142    6.886443   7988.852332  \n",
       "min     48.000000  4150.000000   13.000000   16.000000   5118.000000  \n",
       "25%     70.000000  4800.000000   19.000000   25.000000   7788.000000  \n",
       "50%     95.000000  5200.000000   24.000000   30.000000  10295.000000  \n",
       "75%    116.000000  5500.000000   30.000000   34.000000  16503.000000  \n",
       "max    288.000000  6600.000000   49.000000   54.000000  45400.000000  "
      ]
     },
     "execution_count": 4,
     "metadata": {},
     "output_type": "execute_result"
    }
   ],
   "source": [
    "#descriptive statistics\n",
    "df.describe()\n"
   ]
  },
  {
   "cell_type": "code",
   "execution_count": 5,
   "id": "2929e22d",
   "metadata": {
    "execution": {
     "iopub.execute_input": "2022-07-03T12:57:16.850769Z",
     "iopub.status.busy": "2022-07-03T12:57:16.849724Z",
     "iopub.status.idle": "2022-07-03T12:57:16.887039Z",
     "shell.execute_reply": "2022-07-03T12:57:16.886148Z"
    },
    "papermill": {
     "duration": 0.053597,
     "end_time": "2022-07-03T12:57:16.889499",
     "exception": false,
     "start_time": "2022-07-03T12:57:16.835902",
     "status": "completed"
    },
    "tags": []
   },
   "outputs": [
    {
     "name": "stdout",
     "output_type": "stream",
     "text": [
      "<class 'pandas.core.frame.DataFrame'>\n",
      "RangeIndex: 205 entries, 0 to 204\n",
      "Data columns (total 26 columns):\n",
      " #   Column            Non-Null Count  Dtype  \n",
      "---  ------            --------------  -----  \n",
      " 0   car_ID            205 non-null    int64  \n",
      " 1   symboling         205 non-null    int64  \n",
      " 2   CarName           205 non-null    object \n",
      " 3   fueltype          205 non-null    object \n",
      " 4   aspiration        205 non-null    object \n",
      " 5   doornumber        205 non-null    object \n",
      " 6   carbody           205 non-null    object \n",
      " 7   drivewheel        205 non-null    object \n",
      " 8   enginelocation    205 non-null    object \n",
      " 9   wheelbase         205 non-null    float64\n",
      " 10  carlength         205 non-null    float64\n",
      " 11  carwidth          205 non-null    float64\n",
      " 12  carheight         205 non-null    float64\n",
      " 13  curbweight        205 non-null    int64  \n",
      " 14  enginetype        205 non-null    object \n",
      " 15  cylindernumber    205 non-null    object \n",
      " 16  enginesize        205 non-null    int64  \n",
      " 17  fuelsystem        205 non-null    object \n",
      " 18  boreratio         205 non-null    float64\n",
      " 19  stroke            205 non-null    float64\n",
      " 20  compressionratio  205 non-null    float64\n",
      " 21  horsepower        205 non-null    int64  \n",
      " 22  peakrpm           205 non-null    int64  \n",
      " 23  citympg           205 non-null    int64  \n",
      " 24  highwaympg        205 non-null    int64  \n",
      " 25  price             205 non-null    float64\n",
      "dtypes: float64(8), int64(8), object(10)\n",
      "memory usage: 41.8+ KB\n",
      "None\n"
     ]
    }
   ],
   "source": [
    "df.describe(include = ['object'])\n",
    "print(df.info())"
   ]
  },
  {
   "cell_type": "markdown",
   "id": "a585c686",
   "metadata": {
    "papermill": {
     "duration": 0.011308,
     "end_time": "2022-07-03T12:57:16.912107",
     "exception": false,
     "start_time": "2022-07-03T12:57:16.900799",
     "status": "completed"
    },
    "tags": []
   },
   "source": [
    "# Analyze categorical variables:'fueltype', 'drivewheel','enginelocation'"
   ]
  },
  {
   "cell_type": "code",
   "execution_count": 6,
   "id": "cbd2f094",
   "metadata": {
    "execution": {
     "iopub.execute_input": "2022-07-03T12:57:16.937597Z",
     "iopub.status.busy": "2022-07-03T12:57:16.936917Z",
     "iopub.status.idle": "2022-07-03T12:57:16.947838Z",
     "shell.execute_reply": "2022-07-03T12:57:16.947054Z"
    },
    "papermill": {
     "duration": 0.025614,
     "end_time": "2022-07-03T12:57:16.949794",
     "exception": false,
     "start_time": "2022-07-03T12:57:16.924180",
     "status": "completed"
    },
    "tags": []
   },
   "outputs": [
    {
     "data": {
      "text/html": [
       "<div>\n",
       "<style scoped>\n",
       "    .dataframe tbody tr th:only-of-type {\n",
       "        vertical-align: middle;\n",
       "    }\n",
       "\n",
       "    .dataframe tbody tr th {\n",
       "        vertical-align: top;\n",
       "    }\n",
       "\n",
       "    .dataframe thead th {\n",
       "        text-align: right;\n",
       "    }\n",
       "</style>\n",
       "<table border=\"1\" class=\"dataframe\">\n",
       "  <thead>\n",
       "    <tr style=\"text-align: right;\">\n",
       "      <th></th>\n",
       "      <th>count</th>\n",
       "    </tr>\n",
       "    <tr>\n",
       "      <th>fueltype</th>\n",
       "      <th></th>\n",
       "    </tr>\n",
       "  </thead>\n",
       "  <tbody>\n",
       "    <tr>\n",
       "      <th>gas</th>\n",
       "      <td>185</td>\n",
       "    </tr>\n",
       "    <tr>\n",
       "      <th>diesel</th>\n",
       "      <td>20</td>\n",
       "    </tr>\n",
       "  </tbody>\n",
       "</table>\n",
       "</div>"
      ],
      "text/plain": [
       "          count\n",
       "fueltype       \n",
       "gas         185\n",
       "diesel       20"
      ]
     },
     "execution_count": 6,
     "metadata": {},
     "output_type": "execute_result"
    }
   ],
   "source": [
    "fueltype_valuecounts=df['fueltype'].value_counts().to_frame()\n",
    "fueltype_valuecounts.rename(columns={\"fueltype\":\"count\"},inplace=True)\n",
    "fueltype_valuecounts.index.name = 'fueltype'\n",
    "fueltype_valuecounts"
   ]
  },
  {
   "cell_type": "code",
   "execution_count": 7,
   "id": "1039356f",
   "metadata": {
    "execution": {
     "iopub.execute_input": "2022-07-03T12:57:16.975276Z",
     "iopub.status.busy": "2022-07-03T12:57:16.974643Z",
     "iopub.status.idle": "2022-07-03T12:57:16.986890Z",
     "shell.execute_reply": "2022-07-03T12:57:16.985792Z"
    },
    "papermill": {
     "duration": 0.02819,
     "end_time": "2022-07-03T12:57:16.989414",
     "exception": false,
     "start_time": "2022-07-03T12:57:16.961224",
     "status": "completed"
    },
    "tags": []
   },
   "outputs": [
    {
     "data": {
      "text/html": [
       "<div>\n",
       "<style scoped>\n",
       "    .dataframe tbody tr th:only-of-type {\n",
       "        vertical-align: middle;\n",
       "    }\n",
       "\n",
       "    .dataframe tbody tr th {\n",
       "        vertical-align: top;\n",
       "    }\n",
       "\n",
       "    .dataframe thead th {\n",
       "        text-align: right;\n",
       "    }\n",
       "</style>\n",
       "<table border=\"1\" class=\"dataframe\">\n",
       "  <thead>\n",
       "    <tr style=\"text-align: right;\">\n",
       "      <th></th>\n",
       "      <th>Counts</th>\n",
       "    </tr>\n",
       "    <tr>\n",
       "      <th>drivewheel</th>\n",
       "      <th></th>\n",
       "    </tr>\n",
       "  </thead>\n",
       "  <tbody>\n",
       "    <tr>\n",
       "      <th>fwd</th>\n",
       "      <td>120</td>\n",
       "    </tr>\n",
       "    <tr>\n",
       "      <th>rwd</th>\n",
       "      <td>76</td>\n",
       "    </tr>\n",
       "    <tr>\n",
       "      <th>4wd</th>\n",
       "      <td>9</td>\n",
       "    </tr>\n",
       "  </tbody>\n",
       "</table>\n",
       "</div>"
      ],
      "text/plain": [
       "            Counts\n",
       "drivewheel        \n",
       "fwd            120\n",
       "rwd             76\n",
       "4wd              9"
      ]
     },
     "execution_count": 7,
     "metadata": {},
     "output_type": "execute_result"
    }
   ],
   "source": [
    "drivewheel_count = df[\"drivewheel\"].value_counts().to_frame()\n",
    "drivewheel_count.rename(columns={\"drivewheel\":\"Counts\"},inplace =True)\n",
    "drivewheel_count.index.name='drivewheel'\n",
    "drivewheel_count"
   ]
  },
  {
   "cell_type": "code",
   "execution_count": 8,
   "id": "96420e7a",
   "metadata": {
    "execution": {
     "iopub.execute_input": "2022-07-03T12:57:17.014790Z",
     "iopub.status.busy": "2022-07-03T12:57:17.014320Z",
     "iopub.status.idle": "2022-07-03T12:57:17.027140Z",
     "shell.execute_reply": "2022-07-03T12:57:17.026224Z"
    },
    "papermill": {
     "duration": 0.027893,
     "end_time": "2022-07-03T12:57:17.029162",
     "exception": false,
     "start_time": "2022-07-03T12:57:17.001269",
     "status": "completed"
    },
    "tags": []
   },
   "outputs": [
    {
     "data": {
      "text/html": [
       "<div>\n",
       "<style scoped>\n",
       "    .dataframe tbody tr th:only-of-type {\n",
       "        vertical-align: middle;\n",
       "    }\n",
       "\n",
       "    .dataframe tbody tr th {\n",
       "        vertical-align: top;\n",
       "    }\n",
       "\n",
       "    .dataframe thead th {\n",
       "        text-align: right;\n",
       "    }\n",
       "</style>\n",
       "<table border=\"1\" class=\"dataframe\">\n",
       "  <thead>\n",
       "    <tr style=\"text-align: right;\">\n",
       "      <th></th>\n",
       "      <th>counts</th>\n",
       "    </tr>\n",
       "    <tr>\n",
       "      <th>enginelocation</th>\n",
       "      <th></th>\n",
       "    </tr>\n",
       "  </thead>\n",
       "  <tbody>\n",
       "    <tr>\n",
       "      <th>front</th>\n",
       "      <td>202</td>\n",
       "    </tr>\n",
       "    <tr>\n",
       "      <th>rear</th>\n",
       "      <td>3</td>\n",
       "    </tr>\n",
       "  </tbody>\n",
       "</table>\n",
       "</div>"
      ],
      "text/plain": [
       "                counts\n",
       "enginelocation        \n",
       "front              202\n",
       "rear                 3"
      ]
     },
     "execution_count": 8,
     "metadata": {},
     "output_type": "execute_result"
    }
   ],
   "source": [
    "engineloc_counts=df['enginelocation'].value_counts().to_frame()\n",
    "engineloc_counts.rename(columns={'enginelocation':'counts'}, inplace =True)\n",
    "engineloc_counts.index.name= 'enginelocation'\n",
    "engineloc_counts"
   ]
  },
  {
   "cell_type": "markdown",
   "id": "14a98557",
   "metadata": {
    "papermill": {
     "duration": 0.012151,
     "end_time": "2022-07-03T12:57:17.053272",
     "exception": false,
     "start_time": "2022-07-03T12:57:17.041121",
     "status": "completed"
    },
    "tags": []
   },
   "source": [
    "After examining,it can be seen fueltype and enginelocation are not good indicators of price as there is only 20 vehicles with diesel against 185 in gas and only 3 vehicles with rear engine location against 202 with front enegine location, hence the results are skewed."
   ]
  },
  {
   "cell_type": "markdown",
   "id": "938d1987",
   "metadata": {
    "papermill": {
     "duration": 0.011642,
     "end_time": "2022-07-03T12:57:17.077385",
     "exception": false,
     "start_time": "2022-07-03T12:57:17.065743",
     "status": "completed"
    },
    "tags": []
   },
   "source": [
    "# 3.Categorical Variables"
   ]
  },
  {
   "cell_type": "markdown",
   "id": "ae5b1cb3",
   "metadata": {
    "papermill": {
     "duration": 0.011746,
     "end_time": "2022-07-03T12:57:17.101150",
     "exception": false,
     "start_time": "2022-07-03T12:57:17.089404",
     "status": "completed"
    },
    "tags": []
   },
   "source": [
    "Categorical Variable can be analyzed using boxplots. The category variables considered for analysis:drivewheel,carbody"
   ]
  },
  {
   "cell_type": "code",
   "execution_count": 9,
   "id": "e6e24e01",
   "metadata": {
    "execution": {
     "iopub.execute_input": "2022-07-03T12:57:17.127262Z",
     "iopub.status.busy": "2022-07-03T12:57:17.126431Z",
     "iopub.status.idle": "2022-07-03T12:57:17.335261Z",
     "shell.execute_reply": "2022-07-03T12:57:17.334271Z"
    },
    "papermill": {
     "duration": 0.224069,
     "end_time": "2022-07-03T12:57:17.337342",
     "exception": false,
     "start_time": "2022-07-03T12:57:17.113273",
     "status": "completed"
    },
    "tags": []
   },
   "outputs": [
    {
     "data": {
      "text/plain": [
       "<AxesSubplot:xlabel='drivewheel', ylabel='price'>"
      ]
     },
     "execution_count": 9,
     "metadata": {},
     "output_type": "execute_result"
    },
    {
     "data": {
      "image/png": "[encoded data removed]",
      "text/plain": [
       "<Figure size 432x288 with 1 Axes>"
      ]
     },
     "metadata": {
      "needs_background": "light"
     },
     "output_type": "display_data"
    }
   ],
   "source": [
    "sns.boxplot(x=\"drivewheel\",y=\"price\",width = .5,data=df)"
   ]
  },
  {
   "cell_type": "code",
   "execution_count": 10,
   "id": "33e14a58",
   "metadata": {
    "execution": {
     "iopub.execute_input": "2022-07-03T12:57:17.364356Z",
     "iopub.status.busy": "2022-07-03T12:57:17.363538Z",
     "iopub.status.idle": "2022-07-03T12:57:17.611570Z",
     "shell.execute_reply": "2022-07-03T12:57:17.610597Z"
    },
    "papermill": {
     "duration": 0.264029,
     "end_time": "2022-07-03T12:57:17.613972",
     "exception": false,
     "start_time": "2022-07-03T12:57:17.349943",
     "status": "completed"
    },
    "tags": []
   },
   "outputs": [
    {
     "data": {
      "text/plain": [
       "<AxesSubplot:xlabel='carbody', ylabel='price'>"
      ]
     },
     "execution_count": 10,
     "metadata": {},
     "output_type": "execute_result"
    },
    {
     "data": {
      "image/png": "[encoded data removed]",
      "text/plain": [
       "<Figure size 432x288 with 1 Axes>"
      ]
     },
     "metadata": {
      "needs_background": "light"
     },
     "output_type": "display_data"
    }
   ],
   "source": [
    "sns.boxplot(x=\"carbody\",y=\"price\",width = .5,data=df)"
   ]
  },
  {
   "cell_type": "markdown",
   "id": "1e16d34d",
   "metadata": {
    "papermill": {
     "duration": 0.012271,
     "end_time": "2022-07-03T12:57:17.638973",
     "exception": false,
     "start_time": "2022-07-03T12:57:17.626702",
     "status": "completed"
    },
    "tags": []
   },
   "source": [
    "The distributions of price between the different body-style categories have a significant overlap, so body-style would not be a good predictor of price. "
   ]
  },
  {
   "cell_type": "markdown",
   "id": "2ee53a72",
   "metadata": {
    "papermill": {
     "duration": 0.012783,
     "end_time": "2022-07-03T12:57:17.664687",
     "exception": false,
     "start_time": "2022-07-03T12:57:17.651904",
     "status": "completed"
    },
    "tags": []
   },
   "source": [
    "# 4.Grouping "
   ]
  },
  {
   "cell_type": "markdown",
   "id": "beeec103",
   "metadata": {
    "papermill": {
     "duration": 0.012237,
     "end_time": "2022-07-03T12:57:17.689680",
     "exception": false,
     "start_time": "2022-07-03T12:57:17.677443",
     "status": "completed"
    },
    "tags": []
   },
   "source": [
    "The data can be grouped based on one or more varaibles and then analysis is carried out on individual variables."
   ]
  },
  {
   "cell_type": "code",
   "execution_count": 11,
   "id": "766ed55a",
   "metadata": {
    "execution": {
     "iopub.execute_input": "2022-07-03T12:57:17.716967Z",
     "iopub.status.busy": "2022-07-03T12:57:17.716521Z",
     "iopub.status.idle": "2022-07-03T12:57:17.723197Z",
     "shell.execute_reply": "2022-07-03T12:57:17.722456Z"
    },
    "papermill": {
     "duration": 0.023081,
     "end_time": "2022-07-03T12:57:17.725318",
     "exception": false,
     "start_time": "2022-07-03T12:57:17.702237",
     "status": "completed"
    },
    "tags": []
   },
   "outputs": [
    {
     "data": {
      "text/plain": [
       "array(['rwd', 'fwd', '4wd'], dtype=object)"
      ]
     },
     "execution_count": 11,
     "metadata": {},
     "output_type": "execute_result"
    }
   ],
   "source": [
    "df['drivewheel'].unique()"
   ]
  },
  {
   "cell_type": "code",
   "execution_count": 12,
   "id": "858bedcd",
   "metadata": {
    "execution": {
     "iopub.execute_input": "2022-07-03T12:57:17.752808Z",
     "iopub.status.busy": "2022-07-03T12:57:17.752368Z",
     "iopub.status.idle": "2022-07-03T12:57:17.769156Z",
     "shell.execute_reply": "2022-07-03T12:57:17.768187Z"
    },
    "papermill": {
     "duration": 0.033034,
     "end_time": "2022-07-03T12:57:17.771391",
     "exception": false,
     "start_time": "2022-07-03T12:57:17.738357",
     "status": "completed"
    },
    "tags": []
   },
   "outputs": [
    {
     "data": {
      "text/html": [
       "<div>\n",
       "<style scoped>\n",
       "    .dataframe tbody tr th:only-of-type {\n",
       "        vertical-align: middle;\n",
       "    }\n",
       "\n",
       "    .dataframe tbody tr th {\n",
       "        vertical-align: top;\n",
       "    }\n",
       "\n",
       "    .dataframe thead th {\n",
       "        text-align: right;\n",
       "    }\n",
       "</style>\n",
       "<table border=\"1\" class=\"dataframe\">\n",
       "  <thead>\n",
       "    <tr style=\"text-align: right;\">\n",
       "      <th></th>\n",
       "      <th>drivewheel</th>\n",
       "      <th>carbody</th>\n",
       "      <th>price</th>\n",
       "    </tr>\n",
       "  </thead>\n",
       "  <tbody>\n",
       "    <tr>\n",
       "      <th>0</th>\n",
       "      <td>rwd</td>\n",
       "      <td>convertible</td>\n",
       "      <td>13495.0</td>\n",
       "    </tr>\n",
       "    <tr>\n",
       "      <th>1</th>\n",
       "      <td>rwd</td>\n",
       "      <td>convertible</td>\n",
       "      <td>16500.0</td>\n",
       "    </tr>\n",
       "    <tr>\n",
       "      <th>2</th>\n",
       "      <td>rwd</td>\n",
       "      <td>hatchback</td>\n",
       "      <td>16500.0</td>\n",
       "    </tr>\n",
       "    <tr>\n",
       "      <th>3</th>\n",
       "      <td>fwd</td>\n",
       "      <td>sedan</td>\n",
       "      <td>13950.0</td>\n",
       "    </tr>\n",
       "    <tr>\n",
       "      <th>4</th>\n",
       "      <td>4wd</td>\n",
       "      <td>sedan</td>\n",
       "      <td>17450.0</td>\n",
       "    </tr>\n",
       "    <tr>\n",
       "      <th>...</th>\n",
       "      <td>...</td>\n",
       "      <td>...</td>\n",
       "      <td>...</td>\n",
       "    </tr>\n",
       "    <tr>\n",
       "      <th>200</th>\n",
       "      <td>rwd</td>\n",
       "      <td>sedan</td>\n",
       "      <td>16845.0</td>\n",
       "    </tr>\n",
       "    <tr>\n",
       "      <th>201</th>\n",
       "      <td>rwd</td>\n",
       "      <td>sedan</td>\n",
       "      <td>19045.0</td>\n",
       "    </tr>\n",
       "    <tr>\n",
       "      <th>202</th>\n",
       "      <td>rwd</td>\n",
       "      <td>sedan</td>\n",
       "      <td>21485.0</td>\n",
       "    </tr>\n",
       "    <tr>\n",
       "      <th>203</th>\n",
       "      <td>rwd</td>\n",
       "      <td>sedan</td>\n",
       "      <td>22470.0</td>\n",
       "    </tr>\n",
       "    <tr>\n",
       "      <th>204</th>\n",
       "      <td>rwd</td>\n",
       "      <td>sedan</td>\n",
       "      <td>22625.0</td>\n",
       "    </tr>\n",
       "  </tbody>\n",
       "</table>\n",
       "<p>205 rows × 3 columns</p>\n",
       "</div>"
      ],
      "text/plain": [
       "    drivewheel      carbody    price\n",
       "0          rwd  convertible  13495.0\n",
       "1          rwd  convertible  16500.0\n",
       "2          rwd    hatchback  16500.0\n",
       "3          fwd        sedan  13950.0\n",
       "4          4wd        sedan  17450.0\n",
       "..         ...          ...      ...\n",
       "200        rwd        sedan  16845.0\n",
       "201        rwd        sedan  19045.0\n",
       "202        rwd        sedan  21485.0\n",
       "203        rwd        sedan  22470.0\n",
       "204        rwd        sedan  22625.0\n",
       "\n",
       "[205 rows x 3 columns]"
      ]
     },
     "execution_count": 12,
     "metadata": {},
     "output_type": "execute_result"
    }
   ],
   "source": [
    "df_group_one = df[['drivewheel','carbody','price']]\n",
    "df_group_one"
   ]
  },
  {
   "cell_type": "code",
   "execution_count": 13,
   "id": "1c45b975",
   "metadata": {
    "execution": {
     "iopub.execute_input": "2022-07-03T12:57:17.800826Z",
     "iopub.status.busy": "2022-07-03T12:57:17.800110Z",
     "iopub.status.idle": "2022-07-03T12:57:17.817425Z",
     "shell.execute_reply": "2022-07-03T12:57:17.816391Z"
    },
    "papermill": {
     "duration": 0.034577,
     "end_time": "2022-07-03T12:57:17.819738",
     "exception": false,
     "start_time": "2022-07-03T12:57:17.785161",
     "status": "completed"
    },
    "tags": []
   },
   "outputs": [
    {
     "data": {
      "text/html": [
       "<div>\n",
       "<style scoped>\n",
       "    .dataframe tbody tr th:only-of-type {\n",
       "        vertical-align: middle;\n",
       "    }\n",
       "\n",
       "    .dataframe tbody tr th {\n",
       "        vertical-align: top;\n",
       "    }\n",
       "\n",
       "    .dataframe thead th {\n",
       "        text-align: right;\n",
       "    }\n",
       "</style>\n",
       "<table border=\"1\" class=\"dataframe\">\n",
       "  <thead>\n",
       "    <tr style=\"text-align: right;\">\n",
       "      <th></th>\n",
       "      <th>drivewheel</th>\n",
       "      <th>price</th>\n",
       "    </tr>\n",
       "  </thead>\n",
       "  <tbody>\n",
       "    <tr>\n",
       "      <th>0</th>\n",
       "      <td>4wd</td>\n",
       "      <td>11087.46</td>\n",
       "    </tr>\n",
       "    <tr>\n",
       "      <th>1</th>\n",
       "      <td>fwd</td>\n",
       "      <td>9239.31</td>\n",
       "    </tr>\n",
       "    <tr>\n",
       "      <th>2</th>\n",
       "      <td>rwd</td>\n",
       "      <td>19910.81</td>\n",
       "    </tr>\n",
       "  </tbody>\n",
       "</table>\n",
       "</div>"
      ],
      "text/plain": [
       "  drivewheel     price\n",
       "0        4wd  11087.46\n",
       "1        fwd   9239.31\n",
       "2        rwd  19910.81"
      ]
     },
     "execution_count": 13,
     "metadata": {},
     "output_type": "execute_result"
    }
   ],
   "source": [
    "df_group_dw = df_group_one.groupby(['drivewheel'],as_index=False).mean()\n",
    "df_group_dw = df_group_dw.round(decimals =2)\n",
    "df_group_dw"
   ]
  },
  {
   "cell_type": "code",
   "execution_count": 14,
   "id": "959422c6",
   "metadata": {
    "execution": {
     "iopub.execute_input": "2022-07-03T12:57:17.848159Z",
     "iopub.status.busy": "2022-07-03T12:57:17.847737Z",
     "iopub.status.idle": "2022-07-03T12:57:17.883506Z",
     "shell.execute_reply": "2022-07-03T12:57:17.882428Z"
    },
    "papermill": {
     "duration": 0.052854,
     "end_time": "2022-07-03T12:57:17.885855",
     "exception": false,
     "start_time": "2022-07-03T12:57:17.833001",
     "status": "completed"
    },
    "tags": []
   },
   "outputs": [
    {
     "data": {
      "text/html": [
       "<div>\n",
       "<style scoped>\n",
       "    .dataframe tbody tr th:only-of-type {\n",
       "        vertical-align: middle;\n",
       "    }\n",
       "\n",
       "    .dataframe tbody tr th {\n",
       "        vertical-align: top;\n",
       "    }\n",
       "\n",
       "    .dataframe thead tr th {\n",
       "        text-align: left;\n",
       "    }\n",
       "\n",
       "    .dataframe thead tr:last-of-type th {\n",
       "        text-align: right;\n",
       "    }\n",
       "</style>\n",
       "<table border=\"1\" class=\"dataframe\">\n",
       "  <thead>\n",
       "    <tr>\n",
       "      <th></th>\n",
       "      <th colspan=\"5\" halign=\"left\">price</th>\n",
       "    </tr>\n",
       "    <tr>\n",
       "      <th>carbody</th>\n",
       "      <th>convertible</th>\n",
       "      <th>hardtop</th>\n",
       "      <th>hatchback</th>\n",
       "      <th>sedan</th>\n",
       "      <th>wagon</th>\n",
       "    </tr>\n",
       "    <tr>\n",
       "      <th>drivewheel</th>\n",
       "      <th></th>\n",
       "      <th></th>\n",
       "      <th></th>\n",
       "      <th></th>\n",
       "      <th></th>\n",
       "    </tr>\n",
       "  </thead>\n",
       "  <tbody>\n",
       "    <tr>\n",
       "      <th>4wd</th>\n",
       "      <td>0.0</td>\n",
       "      <td>0.00</td>\n",
       "      <td>12731.08</td>\n",
       "      <td>12647.33</td>\n",
       "      <td>9095.75</td>\n",
       "    </tr>\n",
       "    <tr>\n",
       "      <th>fwd</th>\n",
       "      <td>11595.0</td>\n",
       "      <td>8249.00</td>\n",
       "      <td>8396.39</td>\n",
       "      <td>9780.39</td>\n",
       "      <td>9997.33</td>\n",
       "    </tr>\n",
       "    <tr>\n",
       "      <th>rwd</th>\n",
       "      <td>23949.6</td>\n",
       "      <td>24202.71</td>\n",
       "      <td>15235.82</td>\n",
       "      <td>21711.83</td>\n",
       "      <td>16994.22</td>\n",
       "    </tr>\n",
       "  </tbody>\n",
       "</table>\n",
       "</div>"
      ],
      "text/plain": [
       "                 price                                        \n",
       "carbody    convertible   hardtop hatchback     sedan     wagon\n",
       "drivewheel                                                    \n",
       "4wd                0.0      0.00  12731.08  12647.33   9095.75\n",
       "fwd            11595.0   8249.00   8396.39   9780.39   9997.33\n",
       "rwd            23949.6  24202.71  15235.82  21711.83  16994.22"
      ]
     },
     "execution_count": 14,
     "metadata": {},
     "output_type": "execute_result"
    }
   ],
   "source": [
    "df_group = df_group_one.groupby(['drivewheel','carbody'],as_index=False).mean()\n",
    "grouped_pivot = df_group.pivot(index='drivewheel',columns='carbody')\n",
    "grouped_pivot = grouped_pivot.fillna(0).round(decimals=2)\n",
    "grouped_pivot"
   ]
  },
  {
   "cell_type": "markdown",
   "id": "4f824aa2",
   "metadata": {
    "papermill": {
     "duration": 0.013041,
     "end_time": "2022-07-03T12:57:17.912536",
     "exception": false,
     "start_time": "2022-07-03T12:57:17.899495",
     "status": "completed"
    },
    "tags": []
   },
   "source": [
    "Visualization of variables :Drivewheel,Carbody and Price\n",
    "A heatmap to show the relation of Drivwheel and carbody to price"
   ]
  },
  {
   "cell_type": "code",
   "execution_count": 15,
   "id": "57e70034",
   "metadata": {
    "execution": {
     "iopub.execute_input": "2022-07-03T12:57:17.942290Z",
     "iopub.status.busy": "2022-07-03T12:57:17.940973Z",
     "iopub.status.idle": "2022-07-03T12:57:17.947305Z",
     "shell.execute_reply": "2022-07-03T12:57:17.946607Z"
    },
    "papermill": {
     "duration": 0.023466,
     "end_time": "2022-07-03T12:57:17.949563",
     "exception": false,
     "start_time": "2022-07-03T12:57:17.926097",
     "status": "completed"
    },
    "tags": []
   },
   "outputs": [],
   "source": [
    "import matplotlib.pyplot as plt\n",
    "%matplotlib inline"
   ]
  },
  {
   "cell_type": "code",
   "execution_count": 16,
   "id": "c3b5ff30",
   "metadata": {
    "execution": {
     "iopub.execute_input": "2022-07-03T12:57:17.978442Z",
     "iopub.status.busy": "2022-07-03T12:57:17.977844Z",
     "iopub.status.idle": "2022-07-03T12:57:18.202603Z",
     "shell.execute_reply": "2022-07-03T12:57:18.201525Z"
    },
    "papermill": {
     "duration": 0.241876,
     "end_time": "2022-07-03T12:57:18.204980",
     "exception": false,
     "start_time": "2022-07-03T12:57:17.963104",
     "status": "completed"
    },
    "tags": []
   },
   "outputs": [
    {
     "data": {
      "image/png": "[encoded data removed]",
      "text/plain": [
       "<Figure size 432x288 with 2 Axes>"
      ]
     },
     "metadata": {
      "needs_background": "light"
     },
     "output_type": "display_data"
    }
   ],
   "source": [
    "fig, ax = plt.subplots()\n",
    "im = ax.pcolor(grouped_pivot, cmap='Blues')\n",
    "\n",
    "#label names\n",
    "\n",
    "row_labels = grouped_pivot.columns.levels[1]\n",
    "col_labels = grouped_pivot.index\n",
    "\n",
    "#move ticks and labels to the center\n",
    "ax.set_xticks(np.arange(grouped_pivot.shape[1]) + 0.5, minor=False)\n",
    "ax.set_yticks(np.arange(grouped_pivot.shape[0]) + 0.5, minor=False)\n",
    "\n",
    "#insert labels\n",
    "ax.set_xticklabels(row_labels, minor=False)\n",
    "ax.set_yticklabels(col_labels, minor=False)\n",
    "\n",
    "#rotate label if too long\n",
    "plt.xticks(rotation=90)\n",
    "\n",
    "fig.colorbar(im)\n",
    "plt.show()"
   ]
  },
  {
   "cell_type": "markdown",
   "id": "adf6648b",
   "metadata": {
    "papermill": {
     "duration": 0.013262,
     "end_time": "2022-07-03T12:57:18.232284",
     "exception": false,
     "start_time": "2022-07-03T12:57:18.219022",
     "status": "completed"
    },
    "tags": []
   },
   "source": [
    "# 5.Correlation "
   ]
  },
  {
   "cell_type": "code",
   "execution_count": 17,
   "id": "87d0e57f",
   "metadata": {
    "execution": {
     "iopub.execute_input": "2022-07-03T12:57:18.260951Z",
     "iopub.status.busy": "2022-07-03T12:57:18.260520Z",
     "iopub.status.idle": "2022-07-03T12:57:18.289419Z",
     "shell.execute_reply": "2022-07-03T12:57:18.288489Z"
    },
    "papermill": {
     "duration": 0.046077,
     "end_time": "2022-07-03T12:57:18.291817",
     "exception": false,
     "start_time": "2022-07-03T12:57:18.245740",
     "status": "completed"
    },
    "tags": []
   },
   "outputs": [
    {
     "data": {
      "text/html": [
       "<div>\n",
       "<style scoped>\n",
       "    .dataframe tbody tr th:only-of-type {\n",
       "        vertical-align: middle;\n",
       "    }\n",
       "\n",
       "    .dataframe tbody tr th {\n",
       "        vertical-align: top;\n",
       "    }\n",
       "\n",
       "    .dataframe thead th {\n",
       "        text-align: right;\n",
       "    }\n",
       "</style>\n",
       "<table border=\"1\" class=\"dataframe\">\n",
       "  <thead>\n",
       "    <tr style=\"text-align: right;\">\n",
       "      <th></th>\n",
       "      <th>car_ID</th>\n",
       "      <th>symboling</th>\n",
       "      <th>wheelbase</th>\n",
       "      <th>carlength</th>\n",
       "      <th>carwidth</th>\n",
       "      <th>carheight</th>\n",
       "      <th>curbweight</th>\n",
       "      <th>enginesize</th>\n",
       "      <th>boreratio</th>\n",
       "      <th>stroke</th>\n",
       "      <th>compressionratio</th>\n",
       "      <th>horsepower</th>\n",
       "      <th>peakrpm</th>\n",
       "      <th>citympg</th>\n",
       "      <th>highwaympg</th>\n",
       "      <th>price</th>\n",
       "    </tr>\n",
       "  </thead>\n",
       "  <tbody>\n",
       "    <tr>\n",
       "      <th>car_ID</th>\n",
       "      <td>1.000000</td>\n",
       "      <td>-0.151621</td>\n",
       "      <td>0.129729</td>\n",
       "      <td>0.170636</td>\n",
       "      <td>0.052387</td>\n",
       "      <td>0.255960</td>\n",
       "      <td>0.071962</td>\n",
       "      <td>-0.033930</td>\n",
       "      <td>0.260064</td>\n",
       "      <td>-0.160824</td>\n",
       "      <td>0.150276</td>\n",
       "      <td>-0.015006</td>\n",
       "      <td>-0.203789</td>\n",
       "      <td>0.015940</td>\n",
       "      <td>0.011255</td>\n",
       "      <td>-0.109093</td>\n",
       "    </tr>\n",
       "    <tr>\n",
       "      <th>symboling</th>\n",
       "      <td>-0.151621</td>\n",
       "      <td>1.000000</td>\n",
       "      <td>-0.531954</td>\n",
       "      <td>-0.357612</td>\n",
       "      <td>-0.232919</td>\n",
       "      <td>-0.541038</td>\n",
       "      <td>-0.227691</td>\n",
       "      <td>-0.105790</td>\n",
       "      <td>-0.130051</td>\n",
       "      <td>-0.008735</td>\n",
       "      <td>-0.178515</td>\n",
       "      <td>0.070873</td>\n",
       "      <td>0.273606</td>\n",
       "      <td>-0.035823</td>\n",
       "      <td>0.034606</td>\n",
       "      <td>-0.079978</td>\n",
       "    </tr>\n",
       "    <tr>\n",
       "      <th>wheelbase</th>\n",
       "      <td>0.129729</td>\n",
       "      <td>-0.531954</td>\n",
       "      <td>1.000000</td>\n",
       "      <td>0.874587</td>\n",
       "      <td>0.795144</td>\n",
       "      <td>0.589435</td>\n",
       "      <td>0.776386</td>\n",
       "      <td>0.569329</td>\n",
       "      <td>0.488750</td>\n",
       "      <td>0.160959</td>\n",
       "      <td>0.249786</td>\n",
       "      <td>0.353294</td>\n",
       "      <td>-0.360469</td>\n",
       "      <td>-0.470414</td>\n",
       "      <td>-0.544082</td>\n",
       "      <td>0.577816</td>\n",
       "    </tr>\n",
       "    <tr>\n",
       "      <th>carlength</th>\n",
       "      <td>0.170636</td>\n",
       "      <td>-0.357612</td>\n",
       "      <td>0.874587</td>\n",
       "      <td>1.000000</td>\n",
       "      <td>0.841118</td>\n",
       "      <td>0.491029</td>\n",
       "      <td>0.877728</td>\n",
       "      <td>0.683360</td>\n",
       "      <td>0.606454</td>\n",
       "      <td>0.129533</td>\n",
       "      <td>0.158414</td>\n",
       "      <td>0.552623</td>\n",
       "      <td>-0.287242</td>\n",
       "      <td>-0.670909</td>\n",
       "      <td>-0.704662</td>\n",
       "      <td>0.682920</td>\n",
       "    </tr>\n",
       "    <tr>\n",
       "      <th>carwidth</th>\n",
       "      <td>0.052387</td>\n",
       "      <td>-0.232919</td>\n",
       "      <td>0.795144</td>\n",
       "      <td>0.841118</td>\n",
       "      <td>1.000000</td>\n",
       "      <td>0.279210</td>\n",
       "      <td>0.867032</td>\n",
       "      <td>0.735433</td>\n",
       "      <td>0.559150</td>\n",
       "      <td>0.182942</td>\n",
       "      <td>0.181129</td>\n",
       "      <td>0.640732</td>\n",
       "      <td>-0.220012</td>\n",
       "      <td>-0.642704</td>\n",
       "      <td>-0.677218</td>\n",
       "      <td>0.759325</td>\n",
       "    </tr>\n",
       "    <tr>\n",
       "      <th>carheight</th>\n",
       "      <td>0.255960</td>\n",
       "      <td>-0.541038</td>\n",
       "      <td>0.589435</td>\n",
       "      <td>0.491029</td>\n",
       "      <td>0.279210</td>\n",
       "      <td>1.000000</td>\n",
       "      <td>0.295572</td>\n",
       "      <td>0.067149</td>\n",
       "      <td>0.171071</td>\n",
       "      <td>-0.055307</td>\n",
       "      <td>0.261214</td>\n",
       "      <td>-0.108802</td>\n",
       "      <td>-0.320411</td>\n",
       "      <td>-0.048640</td>\n",
       "      <td>-0.107358</td>\n",
       "      <td>0.119336</td>\n",
       "    </tr>\n",
       "    <tr>\n",
       "      <th>curbweight</th>\n",
       "      <td>0.071962</td>\n",
       "      <td>-0.227691</td>\n",
       "      <td>0.776386</td>\n",
       "      <td>0.877728</td>\n",
       "      <td>0.867032</td>\n",
       "      <td>0.295572</td>\n",
       "      <td>1.000000</td>\n",
       "      <td>0.850594</td>\n",
       "      <td>0.648480</td>\n",
       "      <td>0.168790</td>\n",
       "      <td>0.151362</td>\n",
       "      <td>0.750739</td>\n",
       "      <td>-0.266243</td>\n",
       "      <td>-0.757414</td>\n",
       "      <td>-0.797465</td>\n",
       "      <td>0.835305</td>\n",
       "    </tr>\n",
       "    <tr>\n",
       "      <th>enginesize</th>\n",
       "      <td>-0.033930</td>\n",
       "      <td>-0.105790</td>\n",
       "      <td>0.569329</td>\n",
       "      <td>0.683360</td>\n",
       "      <td>0.735433</td>\n",
       "      <td>0.067149</td>\n",
       "      <td>0.850594</td>\n",
       "      <td>1.000000</td>\n",
       "      <td>0.583774</td>\n",
       "      <td>0.203129</td>\n",
       "      <td>0.028971</td>\n",
       "      <td>0.809769</td>\n",
       "      <td>-0.244660</td>\n",
       "      <td>-0.653658</td>\n",
       "      <td>-0.677470</td>\n",
       "      <td>0.874145</td>\n",
       "    </tr>\n",
       "    <tr>\n",
       "      <th>boreratio</th>\n",
       "      <td>0.260064</td>\n",
       "      <td>-0.130051</td>\n",
       "      <td>0.488750</td>\n",
       "      <td>0.606454</td>\n",
       "      <td>0.559150</td>\n",
       "      <td>0.171071</td>\n",
       "      <td>0.648480</td>\n",
       "      <td>0.583774</td>\n",
       "      <td>1.000000</td>\n",
       "      <td>-0.055909</td>\n",
       "      <td>0.005197</td>\n",
       "      <td>0.573677</td>\n",
       "      <td>-0.254976</td>\n",
       "      <td>-0.584532</td>\n",
       "      <td>-0.587012</td>\n",
       "      <td>0.553173</td>\n",
       "    </tr>\n",
       "    <tr>\n",
       "      <th>stroke</th>\n",
       "      <td>-0.160824</td>\n",
       "      <td>-0.008735</td>\n",
       "      <td>0.160959</td>\n",
       "      <td>0.129533</td>\n",
       "      <td>0.182942</td>\n",
       "      <td>-0.055307</td>\n",
       "      <td>0.168790</td>\n",
       "      <td>0.203129</td>\n",
       "      <td>-0.055909</td>\n",
       "      <td>1.000000</td>\n",
       "      <td>0.186110</td>\n",
       "      <td>0.080940</td>\n",
       "      <td>-0.067964</td>\n",
       "      <td>-0.042145</td>\n",
       "      <td>-0.043931</td>\n",
       "      <td>0.079443</td>\n",
       "    </tr>\n",
       "    <tr>\n",
       "      <th>compressionratio</th>\n",
       "      <td>0.150276</td>\n",
       "      <td>-0.178515</td>\n",
       "      <td>0.249786</td>\n",
       "      <td>0.158414</td>\n",
       "      <td>0.181129</td>\n",
       "      <td>0.261214</td>\n",
       "      <td>0.151362</td>\n",
       "      <td>0.028971</td>\n",
       "      <td>0.005197</td>\n",
       "      <td>0.186110</td>\n",
       "      <td>1.000000</td>\n",
       "      <td>-0.204326</td>\n",
       "      <td>-0.435741</td>\n",
       "      <td>0.324701</td>\n",
       "      <td>0.265201</td>\n",
       "      <td>0.067984</td>\n",
       "    </tr>\n",
       "    <tr>\n",
       "      <th>horsepower</th>\n",
       "      <td>-0.015006</td>\n",
       "      <td>0.070873</td>\n",
       "      <td>0.353294</td>\n",
       "      <td>0.552623</td>\n",
       "      <td>0.640732</td>\n",
       "      <td>-0.108802</td>\n",
       "      <td>0.750739</td>\n",
       "      <td>0.809769</td>\n",
       "      <td>0.573677</td>\n",
       "      <td>0.080940</td>\n",
       "      <td>-0.204326</td>\n",
       "      <td>1.000000</td>\n",
       "      <td>0.131073</td>\n",
       "      <td>-0.801456</td>\n",
       "      <td>-0.770544</td>\n",
       "      <td>0.808139</td>\n",
       "    </tr>\n",
       "    <tr>\n",
       "      <th>peakrpm</th>\n",
       "      <td>-0.203789</td>\n",
       "      <td>0.273606</td>\n",
       "      <td>-0.360469</td>\n",
       "      <td>-0.287242</td>\n",
       "      <td>-0.220012</td>\n",
       "      <td>-0.320411</td>\n",
       "      <td>-0.266243</td>\n",
       "      <td>-0.244660</td>\n",
       "      <td>-0.254976</td>\n",
       "      <td>-0.067964</td>\n",
       "      <td>-0.435741</td>\n",
       "      <td>0.131073</td>\n",
       "      <td>1.000000</td>\n",
       "      <td>-0.113544</td>\n",
       "      <td>-0.054275</td>\n",
       "      <td>-0.085267</td>\n",
       "    </tr>\n",
       "    <tr>\n",
       "      <th>citympg</th>\n",
       "      <td>0.015940</td>\n",
       "      <td>-0.035823</td>\n",
       "      <td>-0.470414</td>\n",
       "      <td>-0.670909</td>\n",
       "      <td>-0.642704</td>\n",
       "      <td>-0.048640</td>\n",
       "      <td>-0.757414</td>\n",
       "      <td>-0.653658</td>\n",
       "      <td>-0.584532</td>\n",
       "      <td>-0.042145</td>\n",
       "      <td>0.324701</td>\n",
       "      <td>-0.801456</td>\n",
       "      <td>-0.113544</td>\n",
       "      <td>1.000000</td>\n",
       "      <td>0.971337</td>\n",
       "      <td>-0.685751</td>\n",
       "    </tr>\n",
       "    <tr>\n",
       "      <th>highwaympg</th>\n",
       "      <td>0.011255</td>\n",
       "      <td>0.034606</td>\n",
       "      <td>-0.544082</td>\n",
       "      <td>-0.704662</td>\n",
       "      <td>-0.677218</td>\n",
       "      <td>-0.107358</td>\n",
       "      <td>-0.797465</td>\n",
       "      <td>-0.677470</td>\n",
       "      <td>-0.587012</td>\n",
       "      <td>-0.043931</td>\n",
       "      <td>0.265201</td>\n",
       "      <td>-0.770544</td>\n",
       "      <td>-0.054275</td>\n",
       "      <td>0.971337</td>\n",
       "      <td>1.000000</td>\n",
       "      <td>-0.697599</td>\n",
       "    </tr>\n",
       "    <tr>\n",
       "      <th>price</th>\n",
       "      <td>-0.109093</td>\n",
       "      <td>-0.079978</td>\n",
       "      <td>0.577816</td>\n",
       "      <td>0.682920</td>\n",
       "      <td>0.759325</td>\n",
       "      <td>0.119336</td>\n",
       "      <td>0.835305</td>\n",
       "      <td>0.874145</td>\n",
       "      <td>0.553173</td>\n",
       "      <td>0.079443</td>\n",
       "      <td>0.067984</td>\n",
       "      <td>0.808139</td>\n",
       "      <td>-0.085267</td>\n",
       "      <td>-0.685751</td>\n",
       "      <td>-0.697599</td>\n",
       "      <td>1.000000</td>\n",
       "    </tr>\n",
       "  </tbody>\n",
       "</table>\n",
       "</div>"
      ],
      "text/plain": [
       "                    car_ID  symboling  wheelbase  carlength  carwidth  \\\n",
       "car_ID            1.000000  -0.151621   0.129729   0.170636  0.052387   \n",
       "symboling        -0.151621   1.000000  -0.531954  -0.357612 -0.232919   \n",
       "wheelbase         0.129729  -0.531954   1.000000   0.874587  0.795144   \n",
       "carlength         0.170636  -0.357612   0.874587   1.000000  0.841118   \n",
       "carwidth          0.052387  -0.232919   0.795144   0.841118  1.000000   \n",
       "carheight         0.255960  -0.541038   0.589435   0.491029  0.279210   \n",
       "curbweight        0.071962  -0.227691   0.776386   0.877728  0.867032   \n",
       "enginesize       -0.033930  -0.105790   0.569329   0.683360  0.735433   \n",
       "boreratio         0.260064  -0.130051   0.488750   0.606454  0.559150   \n",
       "stroke           -0.160824  -0.008735   0.160959   0.129533  0.182942   \n",
       "compressionratio  0.150276  -0.178515   0.249786   0.158414  0.181129   \n",
       "horsepower       -0.015006   0.070873   0.353294   0.552623  0.640732   \n",
       "peakrpm          -0.203789   0.273606  -0.360469  -0.287242 -0.220012   \n",
       "citympg           0.015940  -0.035823  -0.470414  -0.670909 -0.642704   \n",
       "highwaympg        0.011255   0.034606  -0.544082  -0.704662 -0.677218   \n",
       "price            -0.109093  -0.079978   0.577816   0.682920  0.759325   \n",
       "\n",
       "                  carheight  curbweight  enginesize  boreratio    stroke  \\\n",
       "car_ID             0.255960    0.071962   -0.033930   0.260064 -0.160824   \n",
       "symboling         -0.541038   -0.227691   -0.105790  -0.130051 -0.008735   \n",
       "wheelbase          0.589435    0.776386    0.569329   0.488750  0.160959   \n",
       "carlength          0.491029    0.877728    0.683360   0.606454  0.129533   \n",
       "carwidth           0.279210    0.867032    0.735433   0.559150  0.182942   \n",
       "carheight          1.000000    0.295572    0.067149   0.171071 -0.055307   \n",
       "curbweight         0.295572    1.000000    0.850594   0.648480  0.168790   \n",
       "enginesize         0.067149    0.850594    1.000000   0.583774  0.203129   \n",
       "boreratio          0.171071    0.648480    0.583774   1.000000 -0.055909   \n",
       "stroke            -0.055307    0.168790    0.203129  -0.055909  1.000000   \n",
       "compressionratio   0.261214    0.151362    0.028971   0.005197  0.186110   \n",
       "horsepower        -0.108802    0.750739    0.809769   0.573677  0.080940   \n",
       "peakrpm           -0.320411   -0.266243   -0.244660  -0.254976 -0.067964   \n",
       "citympg           -0.048640   -0.757414   -0.653658  -0.584532 -0.042145   \n",
       "highwaympg        -0.107358   -0.797465   -0.677470  -0.587012 -0.043931   \n",
       "price              0.119336    0.835305    0.874145   0.553173  0.079443   \n",
       "\n",
       "                  compressionratio  horsepower   peakrpm   citympg  \\\n",
       "car_ID                    0.150276   -0.015006 -0.203789  0.015940   \n",
       "symboling                -0.178515    0.070873  0.273606 -0.035823   \n",
       "wheelbase                 0.249786    0.353294 -0.360469 -0.470414   \n",
       "carlength                 0.158414    0.552623 -0.287242 -0.670909   \n",
       "carwidth                  0.181129    0.640732 -0.220012 -0.642704   \n",
       "carheight                 0.261214   -0.108802 -0.320411 -0.048640   \n",
       "curbweight                0.151362    0.750739 -0.266243 -0.757414   \n",
       "enginesize                0.028971    0.809769 -0.244660 -0.653658   \n",
       "boreratio                 0.005197    0.573677 -0.254976 -0.584532   \n",
       "stroke                    0.186110    0.080940 -0.067964 -0.042145   \n",
       "compressionratio          1.000000   -0.204326 -0.435741  0.324701   \n",
       "horsepower               -0.204326    1.000000  0.131073 -0.801456   \n",
       "peakrpm                  -0.435741    0.131073  1.000000 -0.113544   \n",
       "citympg                   0.324701   -0.801456 -0.113544  1.000000   \n",
       "highwaympg                0.265201   -0.770544 -0.054275  0.971337   \n",
       "price                     0.067984    0.808139 -0.085267 -0.685751   \n",
       "\n",
       "                  highwaympg     price  \n",
       "car_ID              0.011255 -0.109093  \n",
       "symboling           0.034606 -0.079978  \n",
       "wheelbase          -0.544082  0.577816  \n",
       "carlength          -0.704662  0.682920  \n",
       "carwidth           -0.677218  0.759325  \n",
       "carheight          -0.107358  0.119336  \n",
       "curbweight         -0.797465  0.835305  \n",
       "enginesize         -0.677470  0.874145  \n",
       "boreratio          -0.587012  0.553173  \n",
       "stroke             -0.043931  0.079443  \n",
       "compressionratio    0.265201  0.067984  \n",
       "horsepower         -0.770544  0.808139  \n",
       "peakrpm            -0.054275 -0.085267  \n",
       "citympg             0.971337 -0.685751  \n",
       "highwaympg          1.000000 -0.697599  \n",
       "price              -0.697599  1.000000  "
      ]
     },
     "execution_count": 17,
     "metadata": {},
     "output_type": "execute_result"
    }
   ],
   "source": [
    "#correlation between variables\n",
    "df.corr()"
   ]
  },
  {
   "cell_type": "markdown",
   "id": "79b36548",
   "metadata": {
    "papermill": {
     "duration": 0.014411,
     "end_time": "2022-07-03T12:57:18.321287",
     "exception": false,
     "start_time": "2022-07-03T12:57:18.306876",
     "status": "completed"
    },
    "tags": []
   },
   "source": [
    "> # Correlation between Engine Size and Price"
   ]
  },
  {
   "cell_type": "code",
   "execution_count": 18,
   "id": "3714353c",
   "metadata": {
    "execution": {
     "iopub.execute_input": "2022-07-03T12:57:18.352669Z",
     "iopub.status.busy": "2022-07-03T12:57:18.352091Z",
     "iopub.status.idle": "2022-07-03T12:57:18.669243Z",
     "shell.execute_reply": "2022-07-03T12:57:18.668526Z"
    },
    "papermill": {
     "duration": 0.335221,
     "end_time": "2022-07-03T12:57:18.671518",
     "exception": false,
     "start_time": "2022-07-03T12:57:18.336297",
     "status": "completed"
    },
    "tags": []
   },
   "outputs": [
    {
     "data": {
      "text/plain": [
       "(0.0, 53704.599428881535)"
      ]
     },
     "execution_count": 18,
     "metadata": {},
     "output_type": "execute_result"
    },
    {
     "data": {
      "image/png": "[encoded data removed]",
      "text/plain": [
       "<Figure size 432x288 with 1 Axes>"
      ]
     },
     "metadata": {
      "needs_background": "light"
     },
     "output_type": "display_data"
    }
   ],
   "source": [
    "sns.regplot(x='enginesize',y='price',data=df)\n",
    "plt.ylim(0,)\n"
   ]
  },
  {
   "cell_type": "code",
   "execution_count": 19,
   "id": "25a32868",
   "metadata": {
    "execution": {
     "iopub.execute_input": "2022-07-03T12:57:18.703454Z",
     "iopub.status.busy": "2022-07-03T12:57:18.702895Z",
     "iopub.status.idle": "2022-07-03T12:57:18.708915Z",
     "shell.execute_reply": "2022-07-03T12:57:18.707685Z"
    },
    "papermill": {
     "duration": 0.025068,
     "end_time": "2022-07-03T12:57:18.711481",
     "exception": false,
     "start_time": "2022-07-03T12:57:18.686413",
     "status": "completed"
    },
    "tags": []
   },
   "outputs": [
    {
     "name": "stdout",
     "output_type": "stream",
     "text": [
      "Correlation_Coeff =  0.8741448025245117 P-value =  1.3547637598648421e-65\n"
     ]
    }
   ],
   "source": [
    "#Calculate Pearson's Correlation Coefficient and p-value\n",
    "pearson_coef, p_value =sts.pearsonr(df[\"enginesize\"],df[\"price\"])\n",
    "print('Correlation_Coeff = ',pearson_coef,'P-value = ',p_value)"
   ]
  },
  {
   "cell_type": "markdown",
   "id": "3d91215d",
   "metadata": {
    "papermill": {
     "duration": 0.015096,
     "end_time": "2022-07-03T12:57:18.741491",
     "exception": false,
     "start_time": "2022-07-03T12:57:18.726395",
     "status": "completed"
    },
    "tags": []
   },
   "source": [
    "<h4>Conclusion:</h4>\n",
    "Correlation_Coeff =  0.8741448025245117 P-value =  1.3547637598648421e-65\n",
    "\n",
    "<p>Since the p-value for the correlation between Enginesize and Price is $<$ 0.05, which indicates the correlation between engine-size and price is statistically significant. Also the linear relationship is very strong (~0.874).<p>\n",
    "\n"
   ]
  },
  {
   "cell_type": "markdown",
   "id": "40a0ec1e",
   "metadata": {
    "papermill": {
     "duration": 0.015377,
     "end_time": "2022-07-03T12:57:18.772205",
     "exception": false,
     "start_time": "2022-07-03T12:57:18.756828",
     "status": "completed"
    },
    "tags": []
   },
   "source": [
    "# Correlation between Highway MPG with price\n",
    "The predictor 'Highway mpg' has a negative correlation with target variable."
   ]
  },
  {
   "cell_type": "code",
   "execution_count": 20,
   "id": "cb118562",
   "metadata": {
    "execution": {
     "iopub.execute_input": "2022-07-03T12:57:18.805478Z",
     "iopub.status.busy": "2022-07-03T12:57:18.804418Z",
     "iopub.status.idle": "2022-07-03T12:57:19.120647Z",
     "shell.execute_reply": "2022-07-03T12:57:19.119669Z"
    },
    "papermill": {
     "duration": 0.335479,
     "end_time": "2022-07-03T12:57:19.123324",
     "exception": false,
     "start_time": "2022-07-03T12:57:18.787845",
     "status": "completed"
    },
    "tags": []
   },
   "outputs": [
    {
     "data": {
      "text/plain": [
       "(0.0, 48133.14036732739)"
      ]
     },
     "execution_count": 20,
     "metadata": {},
     "output_type": "execute_result"
    },
    {
     "data": {
      "image/png": "[encoded data removed]",
      "text/plain": [
       "<Figure size 432x288 with 1 Axes>"
      ]
     },
     "metadata": {
      "needs_background": "light"
     },
     "output_type": "display_data"
    }
   ],
   "source": [
    "sns.regplot(x='highwaympg',y='price',data=df)\n",
    "plt.ylim(0,)\n"
   ]
  },
  {
   "cell_type": "code",
   "execution_count": 21,
   "id": "f4369f80",
   "metadata": {
    "execution": {
     "iopub.execute_input": "2022-07-03T12:57:19.157244Z",
     "iopub.status.busy": "2022-07-03T12:57:19.156321Z",
     "iopub.status.idle": "2022-07-03T12:57:19.162875Z",
     "shell.execute_reply": "2022-07-03T12:57:19.161539Z"
    },
    "papermill": {
     "duration": 0.026237,
     "end_time": "2022-07-03T12:57:19.165329",
     "exception": false,
     "start_time": "2022-07-03T12:57:19.139092",
     "status": "completed"
    },
    "tags": []
   },
   "outputs": [
    {
     "name": "stdout",
     "output_type": "stream",
     "text": [
      "Correlation_Coeff =  -0.6975990916465562 P-value =  3.2306813803648306e-31\n"
     ]
    }
   ],
   "source": [
    "#Calculate Pearson's Correlation Coefficient and p-value\n",
    "pearson_coef, p_value =sts.pearsonr(df[\"highwaympg\"],df[\"price\"])\n",
    "print('Correlation_Coeff = ',pearson_coef,'P-value = ',p_value)"
   ]
  },
  {
   "cell_type": "markdown",
   "id": "bcb6bbd7",
   "metadata": {
    "papermill": {
     "duration": 0.015817,
     "end_time": "2022-07-03T12:57:19.196924",
     "exception": false,
     "start_time": "2022-07-03T12:57:19.181107",
     "status": "completed"
    },
    "tags": []
   },
   "source": [
    "<h4>Conclusion:</h4>\n",
    "Correlation_Coeff =  -0.6975990916465562 P-value =  3.2306813803648306e-31\n",
    "\n",
    "<p>Since the p-value for the correlation between highway mpg and Price is $<$ 0.05, which indicates the association between engine-size and price is statistically significant. But the linear relationship is not very strong (~-0.697).</p>.\n",
    "\n"
   ]
  },
  {
   "cell_type": "markdown",
   "id": "c1d48fc6",
   "metadata": {
    "papermill": {
     "duration": 0.015402,
     "end_time": "2022-07-03T12:57:19.228257",
     "exception": false,
     "start_time": "2022-07-03T12:57:19.212855",
     "status": "completed"
    },
    "tags": []
   },
   "source": [
    "# Relation Between Peakrpm and Price\n",
    "The chracteristic Peakrpm has a weak correlation with the target varaible."
   ]
  },
  {
   "cell_type": "code",
   "execution_count": 22,
   "id": "19092338",
   "metadata": {
    "execution": {
     "iopub.execute_input": "2022-07-03T12:57:19.261494Z",
     "iopub.status.busy": "2022-07-03T12:57:19.261048Z",
     "iopub.status.idle": "2022-07-03T12:57:19.559172Z",
     "shell.execute_reply": "2022-07-03T12:57:19.558206Z"
    },
    "papermill": {
     "duration": 0.31798,
     "end_time": "2022-07-03T12:57:19.561945",
     "exception": false,
     "start_time": "2022-07-03T12:57:19.243965",
     "status": "completed"
    },
    "tags": []
   },
   "outputs": [
    {
     "data": {
      "text/plain": [
       "(0.0, 47414.1)"
      ]
     },
     "execution_count": 22,
     "metadata": {},
     "output_type": "execute_result"
    },
    {
     "data": {
      "image/png": "[encoded data removed]",
      "text/plain": [
       "<Figure size 432x288 with 1 Axes>"
      ]
     },
     "metadata": {
      "needs_background": "light"
     },
     "output_type": "display_data"
    }
   ],
   "source": [
    "sns.regplot(x='peakrpm',y='price',data=df)\n",
    "plt.ylim(0,)"
   ]
  },
  {
   "cell_type": "code",
   "execution_count": 23,
   "id": "da3127a3",
   "metadata": {
    "execution": {
     "iopub.execute_input": "2022-07-03T12:57:19.596376Z",
     "iopub.status.busy": "2022-07-03T12:57:19.595934Z",
     "iopub.status.idle": "2022-07-03T12:57:19.602124Z",
     "shell.execute_reply": "2022-07-03T12:57:19.601343Z"
    },
    "papermill": {
     "duration": 0.026307,
     "end_time": "2022-07-03T12:57:19.604566",
     "exception": false,
     "start_time": "2022-07-03T12:57:19.578259",
     "status": "completed"
    },
    "tags": []
   },
   "outputs": [
    {
     "name": "stdout",
     "output_type": "stream",
     "text": [
      "Correlation_Coeff =  -0.08526715027785688 P-value =  0.22414123444667824\n"
     ]
    }
   ],
   "source": [
    "#Calculate Pearson's Correlation Coefficient and p-value\n",
    "pearson_coef, p_value =sts.pearsonr(df[\"peakrpm\"],df[\"price\"])\n",
    "print('Correlation_Coeff = ',pearson_coef,'P-value = ',p_value)"
   ]
  },
  {
   "cell_type": "markdown",
   "id": "ed05f577",
   "metadata": {
    "papermill": {
     "duration": 0.015659,
     "end_time": "2022-07-03T12:57:19.636378",
     "exception": false,
     "start_time": "2022-07-03T12:57:19.620719",
     "status": "completed"
    },
    "tags": []
   },
   "source": [
    "Conclusion:\n",
    "Correlation_Coeff = -0.08526715027785688 P-value = 0.22414123444667824\n",
    "<p>Since the p-value for the correlation between Peakrpm and Price is greater than the significance level 0.05, which indicates there is inconclusive evidence about the significance of the association between the variables."
   ]
  }
 ],
 "metadata": {
  "kernelspec": {
   "display_name": "Python 3",
   "language": "python",
   "name": "python3"
  },
  "language_info": {
   "codemirror_mode": {
    "name": "ipython",
    "version": 3
   },
   "file_extension": ".py",
   "mimetype": "text/x-python",
   "name": "python",
   "nbconvert_exporter": "python",
   "pygments_lexer": "ipython3",
   "version": "3.7.12"
  },
  "papermill": {
   "default_parameters": {},
   "duration": 16.777687,
   "end_time": "2022-07-03T12:57:20.575008",
   "environment_variables": {},
   "exception": null,
   "input_path": "__notebook__.ipynb",
   "output_path": "__notebook__.ipynb",
   "parameters": {},
   "start_time": "2022-07-03T12:57:03.797321",
   "version": "2.3.4"
  }
 },
 "nbformat": 4,
 "nbformat_minor": 5
}
